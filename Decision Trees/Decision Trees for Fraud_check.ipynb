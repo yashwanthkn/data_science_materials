{
 "cells": [
  {
   "cell_type": "code",
   "execution_count": 1,
   "id": "sought-muslim",
   "metadata": {},
   "outputs": [],
   "source": [
    "import pandas as pd\n",
    "import matplotlib.pyplot as plt\n",
    "from sklearn import datasets\n",
    "import numpy as np\n",
    "from sklearn.model_selection import train_test_split\n",
    "from sklearn.tree import DecisionTreeClassifier\n",
    "from sklearn.metrics import classification_report\n",
    "from sklearn import preprocessing"
   ]
  },
  {
   "cell_type": "code",
   "execution_count": 2,
   "id": "starting-chancellor",
   "metadata": {},
   "outputs": [
    {
     "data": {
      "text/html": [
       "<div>\n",
       "<style scoped>\n",
       "    .dataframe tbody tr th:only-of-type {\n",
       "        vertical-align: middle;\n",
       "    }\n",
       "\n",
       "    .dataframe tbody tr th {\n",
       "        vertical-align: top;\n",
       "    }\n",
       "\n",
       "    .dataframe thead th {\n",
       "        text-align: right;\n",
       "    }\n",
       "</style>\n",
       "<table border=\"1\" class=\"dataframe\">\n",
       "  <thead>\n",
       "    <tr style=\"text-align: right;\">\n",
       "      <th></th>\n",
       "      <th>Undergrad</th>\n",
       "      <th>Marital.Status</th>\n",
       "      <th>Taxable.Income</th>\n",
       "      <th>City.Population</th>\n",
       "      <th>Work.Experience</th>\n",
       "      <th>Urban</th>\n",
       "    </tr>\n",
       "  </thead>\n",
       "  <tbody>\n",
       "    <tr>\n",
       "      <th>0</th>\n",
       "      <td>NO</td>\n",
       "      <td>Single</td>\n",
       "      <td>68833</td>\n",
       "      <td>50047</td>\n",
       "      <td>10</td>\n",
       "      <td>YES</td>\n",
       "    </tr>\n",
       "    <tr>\n",
       "      <th>1</th>\n",
       "      <td>YES</td>\n",
       "      <td>Divorced</td>\n",
       "      <td>33700</td>\n",
       "      <td>134075</td>\n",
       "      <td>18</td>\n",
       "      <td>YES</td>\n",
       "    </tr>\n",
       "    <tr>\n",
       "      <th>2</th>\n",
       "      <td>NO</td>\n",
       "      <td>Married</td>\n",
       "      <td>36925</td>\n",
       "      <td>160205</td>\n",
       "      <td>30</td>\n",
       "      <td>YES</td>\n",
       "    </tr>\n",
       "    <tr>\n",
       "      <th>3</th>\n",
       "      <td>YES</td>\n",
       "      <td>Single</td>\n",
       "      <td>50190</td>\n",
       "      <td>193264</td>\n",
       "      <td>15</td>\n",
       "      <td>YES</td>\n",
       "    </tr>\n",
       "    <tr>\n",
       "      <th>4</th>\n",
       "      <td>NO</td>\n",
       "      <td>Married</td>\n",
       "      <td>81002</td>\n",
       "      <td>27533</td>\n",
       "      <td>28</td>\n",
       "      <td>NO</td>\n",
       "    </tr>\n",
       "  </tbody>\n",
       "</table>\n",
       "</div>"
      ],
      "text/plain": [
       "  Undergrad Marital.Status  Taxable.Income  City.Population  Work.Experience  \\\n",
       "0        NO         Single           68833            50047               10   \n",
       "1       YES       Divorced           33700           134075               18   \n",
       "2        NO        Married           36925           160205               30   \n",
       "3       YES         Single           50190           193264               15   \n",
       "4        NO        Married           81002            27533               28   \n",
       "\n",
       "  Urban  \n",
       "0   YES  \n",
       "1   YES  \n",
       "2   YES  \n",
       "3   YES  \n",
       "4    NO  "
      ]
     },
     "execution_count": 2,
     "metadata": {},
     "output_type": "execute_result"
    }
   ],
   "source": [
    "dataset = pd.read_csv('Fraud_check.csv')\n",
    "dataset.head()"
   ]
  },
  {
   "cell_type": "code",
   "execution_count": 3,
   "id": "young-dealing",
   "metadata": {},
   "outputs": [],
   "source": [
    "label_encoder = preprocessing.LabelEncoder()\n",
    "dataset['Undergrad']=label_encoder.fit_transform(dataset['Undergrad'])\n",
    "\n",
    "dataset['Urban']=label_encoder.fit_transform(dataset['Urban'])\n",
    "dataset['Marital.Status']=label_encoder.fit_transform(dataset['Marital.Status'])"
   ]
  },
  {
   "cell_type": "code",
   "execution_count": 4,
   "id": "aboriginal-assessment",
   "metadata": {},
   "outputs": [],
   "source": [
    "dataset = dataset.rename(columns={'Taxable.Income': 'Taxable_Income'})"
   ]
  },
  {
   "cell_type": "code",
   "execution_count": 5,
   "id": "geographic-taxation",
   "metadata": {},
   "outputs": [],
   "source": [
    "x=dataset.iloc[:,0:5]\n",
    "y=dataset['Taxable_Income']"
   ]
  },
  {
   "cell_type": "code",
   "execution_count": 6,
   "id": "genuine-parcel",
   "metadata": {},
   "outputs": [
    {
     "data": {
      "text/html": [
       "<div>\n",
       "<style scoped>\n",
       "    .dataframe tbody tr th:only-of-type {\n",
       "        vertical-align: middle;\n",
       "    }\n",
       "\n",
       "    .dataframe tbody tr th {\n",
       "        vertical-align: top;\n",
       "    }\n",
       "\n",
       "    .dataframe thead th {\n",
       "        text-align: right;\n",
       "    }\n",
       "</style>\n",
       "<table border=\"1\" class=\"dataframe\">\n",
       "  <thead>\n",
       "    <tr style=\"text-align: right;\">\n",
       "      <th></th>\n",
       "      <th>Undergrad</th>\n",
       "      <th>Marital.Status</th>\n",
       "      <th>Taxable_Income</th>\n",
       "      <th>City.Population</th>\n",
       "      <th>Work.Experience</th>\n",
       "    </tr>\n",
       "  </thead>\n",
       "  <tbody>\n",
       "    <tr>\n",
       "      <th>0</th>\n",
       "      <td>0</td>\n",
       "      <td>2</td>\n",
       "      <td>68833</td>\n",
       "      <td>50047</td>\n",
       "      <td>10</td>\n",
       "    </tr>\n",
       "    <tr>\n",
       "      <th>1</th>\n",
       "      <td>1</td>\n",
       "      <td>0</td>\n",
       "      <td>33700</td>\n",
       "      <td>134075</td>\n",
       "      <td>18</td>\n",
       "    </tr>\n",
       "    <tr>\n",
       "      <th>2</th>\n",
       "      <td>0</td>\n",
       "      <td>1</td>\n",
       "      <td>36925</td>\n",
       "      <td>160205</td>\n",
       "      <td>30</td>\n",
       "    </tr>\n",
       "    <tr>\n",
       "      <th>3</th>\n",
       "      <td>1</td>\n",
       "      <td>2</td>\n",
       "      <td>50190</td>\n",
       "      <td>193264</td>\n",
       "      <td>15</td>\n",
       "    </tr>\n",
       "    <tr>\n",
       "      <th>4</th>\n",
       "      <td>0</td>\n",
       "      <td>1</td>\n",
       "      <td>81002</td>\n",
       "      <td>27533</td>\n",
       "      <td>28</td>\n",
       "    </tr>\n",
       "    <tr>\n",
       "      <th>...</th>\n",
       "      <td>...</td>\n",
       "      <td>...</td>\n",
       "      <td>...</td>\n",
       "      <td>...</td>\n",
       "      <td>...</td>\n",
       "    </tr>\n",
       "    <tr>\n",
       "      <th>595</th>\n",
       "      <td>1</td>\n",
       "      <td>0</td>\n",
       "      <td>76340</td>\n",
       "      <td>39492</td>\n",
       "      <td>7</td>\n",
       "    </tr>\n",
       "    <tr>\n",
       "      <th>596</th>\n",
       "      <td>1</td>\n",
       "      <td>0</td>\n",
       "      <td>69967</td>\n",
       "      <td>55369</td>\n",
       "      <td>2</td>\n",
       "    </tr>\n",
       "    <tr>\n",
       "      <th>597</th>\n",
       "      <td>0</td>\n",
       "      <td>0</td>\n",
       "      <td>47334</td>\n",
       "      <td>154058</td>\n",
       "      <td>0</td>\n",
       "    </tr>\n",
       "    <tr>\n",
       "      <th>598</th>\n",
       "      <td>1</td>\n",
       "      <td>1</td>\n",
       "      <td>98592</td>\n",
       "      <td>180083</td>\n",
       "      <td>17</td>\n",
       "    </tr>\n",
       "    <tr>\n",
       "      <th>599</th>\n",
       "      <td>0</td>\n",
       "      <td>0</td>\n",
       "      <td>96519</td>\n",
       "      <td>158137</td>\n",
       "      <td>16</td>\n",
       "    </tr>\n",
       "  </tbody>\n",
       "</table>\n",
       "<p>600 rows × 5 columns</p>\n",
       "</div>"
      ],
      "text/plain": [
       "     Undergrad  Marital.Status  Taxable_Income  City.Population  \\\n",
       "0            0               2           68833            50047   \n",
       "1            1               0           33700           134075   \n",
       "2            0               1           36925           160205   \n",
       "3            1               2           50190           193264   \n",
       "4            0               1           81002            27533   \n",
       "..         ...             ...             ...              ...   \n",
       "595          1               0           76340            39492   \n",
       "596          1               0           69967            55369   \n",
       "597          0               0           47334           154058   \n",
       "598          1               1           98592           180083   \n",
       "599          0               0           96519           158137   \n",
       "\n",
       "     Work.Experience  \n",
       "0                 10  \n",
       "1                 18  \n",
       "2                 30  \n",
       "3                 15  \n",
       "4                 28  \n",
       "..               ...  \n",
       "595                7  \n",
       "596                2  \n",
       "597                0  \n",
       "598               17  \n",
       "599               16  \n",
       "\n",
       "[600 rows x 5 columns]"
      ]
     },
     "execution_count": 6,
     "metadata": {},
     "output_type": "execute_result"
    }
   ],
   "source": [
    "x"
   ]
  },
  {
   "cell_type": "code",
   "execution_count": 7,
   "id": "interim-integrity",
   "metadata": {},
   "outputs": [
    {
     "data": {
      "text/plain": [
       "0      68833\n",
       "1      33700\n",
       "2      36925\n",
       "3      50190\n",
       "4      81002\n",
       "       ...  \n",
       "595    76340\n",
       "596    69967\n",
       "597    47334\n",
       "598    98592\n",
       "599    96519\n",
       "Name: Taxable_Income, Length: 600, dtype: int64"
      ]
     },
     "execution_count": 7,
     "metadata": {},
     "output_type": "execute_result"
    }
   ],
   "source": [
    "y"
   ]
  },
  {
   "cell_type": "code",
   "execution_count": 8,
   "id": "fifth-efficiency",
   "metadata": {},
   "outputs": [
    {
     "data": {
      "text/plain": [
       "array([68833, 33700, 36925, 50190, 81002, 33329, 83357, 62774, 83519,\n",
       "       98152, 29732, 61063, 11794, 61830, 64070, 69869, 24987, 39476,\n",
       "       97957, 10987, 88636, 14310, 78969, 92040, 38239, 31417, 55299,\n",
       "       87778, 10379, 94033, 73854, 64007, 97200, 82071, 12514, 31336,\n",
       "       10163, 68513, 14912, 74010, 50777, 49436, 96485, 70339, 33614,\n",
       "       81079, 31532, 44034, 16264, 45706, 79616, 40137, 97703, 21917,\n",
       "       81939, 19925, 34703, 78573, 10870, 65065, 94418, 26972, 91684,\n",
       "       51685, 62158, 58312, 42507, 61486, 10150, 99619, 89302, 94287,\n",
       "       41344, 41382, 32434, 61105, 67628, 31458, 73411, 10329, 44947,\n",
       "       35610, 66564, 87348, 69098, 28449, 39277, 13747, 86652, 26741,\n",
       "       77634, 99325, 85651, 15296, 10348, 41395, 22258, 79583, 22187,\n",
       "       52495, 93078, 35072, 32662, 89250, 41641, 55873, 19169, 46629,\n",
       "       51927, 69224, 24557, 77762, 96355, 90910, 21945, 79357, 42784,\n",
       "       54638, 29944, 97318, 52022, 20391, 21016, 26679, 70682, 87326,\n",
       "       15853, 75501, 97984, 53378, 93458, 56501, 46955, 33492, 35832,\n",
       "       12470, 53981, 22773, 84691, 50087, 27877, 56647, 59419, 26783,\n",
       "       79453, 33962, 84429, 63057, 43128, 40220, 79700, 67083, 22054,\n",
       "       18192, 25222, 58635, 39114, 48738, 28496, 62209, 87677, 93659,\n",
       "       56503, 27081, 48779, 91304, 49520, 41117, 18199, 76992, 98588,\n",
       "       20719, 13068, 84835, 44795, 39052, 38704, 98416, 86958, 29222,\n",
       "       71357, 29543, 23855, 84836, 93307, 64614, 72949, 79211, 28707,\n",
       "       83229, 73620, 70819, 48313, 37481, 20851, 86079, 10933, 66905,\n",
       "       36890, 19060, 61906, 31088, 70365, 56536, 16992, 14300, 51914,\n",
       "       12083, 71376, 99307, 35200, 70812, 62067, 62365, 80618, 52891,\n",
       "       31409, 81790, 57794, 20604, 83459, 43051, 68911, 38374, 86784,\n",
       "       42488, 35922, 46610, 28764, 75170, 24370, 84083, 11784, 10003,\n",
       "       98970, 77735, 46070, 27143, 56974, 99109, 32603, 24215, 33092,\n",
       "       71297, 68268, 33810, 49995, 11865, 28904, 39144, 31591, 30167,\n",
       "       72382, 79869, 70526, 38143, 70298, 54747, 92997, 24347, 57445,\n",
       "       70645, 69540, 70712, 32900, 14326, 43865, 29046, 95088, 38586,\n",
       "       30468, 42254, 32467, 68404, 58451, 86208, 62426, 63710, 25062,\n",
       "       56438, 17783, 92426, 64667, 32483, 15673, 77511, 76182, 89831,\n",
       "       12072, 81231, 48169, 31699, 15710, 31645, 98933, 52912, 68756,\n",
       "       41087, 46798, 34475, 98334, 10900, 61445, 78796, 62141, 90945,\n",
       "       88918, 62873, 70949, 31521, 59615, 52111, 34598, 61124, 59689,\n",
       "       23075, 48192, 77367, 82625, 51802, 78922, 38670, 48392, 47425,\n",
       "       73906, 94013, 27698, 26793, 67033, 20109, 95185, 27684, 98240,\n",
       "       18032, 46470, 33301, 62800, 27520, 26094, 13571, 36239, 77082,\n",
       "       71572, 30495, 49771, 32905, 21337, 16082, 43883, 15491, 48081,\n",
       "       36317, 15627, 51028, 14422, 45525, 23480, 19184, 80239, 33215,\n",
       "       65203, 65190, 16320, 21696, 56129, 74971, 33356, 29607, 95319,\n",
       "       94413, 78963, 66865, 40427, 93733, 63543, 41184, 96652, 56555,\n",
       "       36457, 26101, 36156, 49958, 68696, 97453, 68533, 96438, 50348,\n",
       "       85016, 73188, 64225, 64437, 66330, 26372, 30714, 84263, 86531,\n",
       "       93090, 79373, 17440, 81536, 62494, 37580, 60822, 96032, 91545,\n",
       "       73313, 54345, 33138, 33579, 83094, 90065, 51913, 81378, 32236,\n",
       "       97980, 38626, 64230, 38183, 89277, 68269, 58751, 88720, 99311,\n",
       "       94528, 72268, 79593, 94247, 76700, 12011, 87935, 98720, 38638,\n",
       "       37857, 15532, 22159, 91547, 98738, 21966, 14398, 18572, 77312,\n",
       "       42074, 82799, 12659, 19649, 50119, 18888, 83061, 39343, 92007,\n",
       "       78728, 48640, 92070, 97341, 97493, 78400, 52862, 11804, 10455,\n",
       "       25766, 58199, 88613, 16690, 71164, 48825, 29236, 48940, 64320,\n",
       "       84845, 52663, 17957, 69018, 58496, 99128, 35868, 79478, 57402,\n",
       "       73795, 58403, 85972, 62998, 32786, 17962, 59440, 94772, 80083,\n",
       "       81026, 86883, 39444, 35886, 24541, 54502, 17183, 39562, 70157,\n",
       "       72151, 65170, 67936, 93339, 57365, 56628, 83814, 75324, 46939,\n",
       "       71428, 23884, 95145, 46002, 20309, 72115, 42769, 91870, 55308,\n",
       "       60789, 51363, 99239, 19272, 44411, 60915, 98433, 81867, 43980,\n",
       "       50286, 29385, 47565, 26494, 59243, 91488, 33116, 93364, 70743,\n",
       "       34007, 26128, 33748, 38896, 40674, 97111, 54850, 32948, 12682,\n",
       "       12453, 34655, 59351, 29916, 36532, 94583, 92819, 76535, 91220,\n",
       "       71238, 32356, 89094, 91462, 75585, 31629, 42063, 12810, 85570,\n",
       "       72026, 90444, 50403, 78867, 95920, 41545, 63912, 92498, 16316,\n",
       "       68617, 59860, 55981, 34833, 39818, 59227, 44809, 10735, 50242,\n",
       "       56166, 42483, 70572, 31721, 31085, 84931, 69036, 42679, 84557,\n",
       "       54126, 87685, 85076, 31633, 43018, 27394, 68152, 84775, 47364,\n",
       "       76340, 69967, 47334, 98592, 96519], dtype=int64)"
      ]
     },
     "execution_count": 8,
     "metadata": {},
     "output_type": "execute_result"
    }
   ],
   "source": [
    "dataset['Taxable_Income'].unique()"
   ]
  },
  {
   "cell_type": "code",
   "execution_count": 9,
   "id": "incredible-coordination",
   "metadata": {},
   "outputs": [
    {
     "data": {
      "text/plain": [
       "59689    2\n",
       "68833    1\n",
       "60822    1\n",
       "93090    1\n",
       "79373    1\n",
       "        ..\n",
       "61906    1\n",
       "31088    1\n",
       "70365    1\n",
       "56536    1\n",
       "96519    1\n",
       "Name: Taxable_Income, Length: 599, dtype: int64"
      ]
     },
     "execution_count": 9,
     "metadata": {},
     "output_type": "execute_result"
    }
   ],
   "source": [
    "dataset.Taxable_Income.value_counts()"
   ]
  },
  {
   "cell_type": "code",
   "execution_count": 10,
   "id": "exposed-joseph",
   "metadata": {},
   "outputs": [
    {
     "data": {
      "text/plain": [
       "['Undergrad',\n",
       " 'Marital.Status',\n",
       " 'Taxable_Income',\n",
       " 'City.Population',\n",
       " 'Work.Experience',\n",
       " 'Urban']"
      ]
     },
     "execution_count": 10,
     "metadata": {},
     "output_type": "execute_result"
    }
   ],
   "source": [
    "colnames = list(dataset.columns)\n",
    "colnames"
   ]
  },
  {
   "cell_type": "code",
   "execution_count": 11,
   "id": "egyptian-theory",
   "metadata": {},
   "outputs": [],
   "source": [
    "x_train, x_test, y_train, y_test = train_test_split(x,y, test_size=0.2, random_state=40)"
   ]
  },
  {
   "cell_type": "code",
   "execution_count": 12,
   "id": "returning-jefferson",
   "metadata": {},
   "outputs": [
    {
     "data": {
      "text/plain": [
       "DecisionTreeClassifier(criterion='entropy', max_depth=4)"
      ]
     },
     "execution_count": 12,
     "metadata": {},
     "output_type": "execute_result"
    }
   ],
   "source": [
    "model = DecisionTreeClassifier(criterion = 'entropy', max_depth=4)\n",
    "model.fit(x_train,y_train)"
   ]
  },
  {
   "cell_type": "code",
   "execution_count": 13,
   "id": "protecting-mistress",
   "metadata": {},
   "outputs": [
    {
     "data": {
      "image/png": "[encoded data removed]",
      "text/plain": [
       "<Figure size 432x288 with 1 Axes>"
      ]
     },
     "metadata": {
      "needs_background": "light"
     },
     "output_type": "display_data"
    }
   ],
   "source": [
    "from sklearn import tree\n",
    "tree.plot_tree(model);"
   ]
  },
  {
   "cell_type": "code",
   "execution_count": 14,
   "id": "historical-effects",
   "metadata": {},
   "outputs": [
    {
     "data": {
      "image/png": "[encoded data removed]",
      "text/plain": [
       "<Figure size 1200x1200 with 1 Axes>"
      ]
     },
     "metadata": {
      "needs_background": "light"
     },
     "output_type": "display_data"
    }
   ],
   "source": [
    "fn=['Undergrad','Marital.Status','Taxable_Income','City.Population','Work.Experience','Urban']\n",
    "cn=['Bad', 'Good']\n",
    "fig, axes = plt.subplots(nrows = 1,ncols = 1,figsize = (4,4), dpi=300)\n",
    "tree.plot_tree(model);"
   ]
  },
  {
   "cell_type": "code",
   "execution_count": 15,
   "id": "romance-wholesale",
   "metadata": {},
   "outputs": [
    {
     "data": {
      "text/plain": [
       "21966    12\n",
       "78796    11\n",
       "22054    11\n",
       "90065     9\n",
       "59689     9\n",
       "61124     8\n",
       "68152     8\n",
       "78728     8\n",
       "10150     7\n",
       "33215     7\n",
       "33579     6\n",
       "10455     6\n",
       "33329     6\n",
       "33356     5\n",
       "67628     5\n",
       "78963     2\n",
       "dtype: int64"
      ]
     },
     "execution_count": 15,
     "metadata": {},
     "output_type": "execute_result"
    }
   ],
   "source": [
    "#preducting on test data\n",
    "preds = model.predict(x_test)\n",
    "pd.Series(preds).value_counts()"
   ]
  },
  {
   "cell_type": "code",
   "execution_count": 16,
   "id": "danish-flesh",
   "metadata": {},
   "outputs": [
    {
     "data": {
      "text/plain": [
       "array([61124, 61124, 78963, 78796, 21966, 22054, 90065, 10150, 10150,\n",
       "       68152, 33215, 22054, 21966, 90065, 21966, 10150, 61124, 33579,\n",
       "       78728, 33215, 78728, 10455, 33579, 68152, 21966, 33329, 90065,\n",
       "       78728, 90065, 22054, 33579, 22054, 61124, 33329, 33356, 68152,\n",
       "       90065, 68152, 67628, 59689, 90065, 10455, 78963, 67628, 78796,\n",
       "       78796, 78796, 68152, 21966, 33579, 21966, 67628, 78728, 33215,\n",
       "       59689, 68152, 61124, 21966, 78796, 78796, 59689, 61124, 10455,\n",
       "       22054, 90065, 61124, 78796, 33215, 33356, 78796, 33579, 21966,\n",
       "       61124, 10455, 22054, 21966, 78728, 59689, 22054, 33329, 78796,\n",
       "       59689, 10455, 10150, 22054, 90065, 78728, 59689, 78796, 10150,\n",
       "       21966, 33329, 67628, 33356, 21966, 22054, 67628, 68152, 33215,\n",
       "       10150, 33579, 33215, 10150, 33329, 59689, 33356, 33215, 59689,\n",
       "       10455, 22054, 33329, 33356, 21966, 78728, 68152, 22054, 59689,\n",
       "       90065, 78796, 78728], dtype=int64)"
      ]
     },
     "execution_count": 16,
     "metadata": {},
     "output_type": "execute_result"
    }
   ],
   "source": [
    "preds"
   ]
  },
  {
   "cell_type": "code",
   "execution_count": 17,
   "id": "regional-parks",
   "metadata": {},
   "outputs": [
    {
     "data": {
      "text/html": [
       "<div>\n",
       "<style scoped>\n",
       "    .dataframe tbody tr th:only-of-type {\n",
       "        vertical-align: middle;\n",
       "    }\n",
       "\n",
       "    .dataframe tbody tr th {\n",
       "        vertical-align: top;\n",
       "    }\n",
       "\n",
       "    .dataframe thead th {\n",
       "        text-align: right;\n",
       "    }\n",
       "</style>\n",
       "<table border=\"1\" class=\"dataframe\">\n",
       "  <thead>\n",
       "    <tr style=\"text-align: right;\">\n",
       "      <th>col_0</th>\n",
       "      <th>10150</th>\n",
       "      <th>10455</th>\n",
       "      <th>21966</th>\n",
       "      <th>22054</th>\n",
       "      <th>33215</th>\n",
       "      <th>33329</th>\n",
       "      <th>33356</th>\n",
       "      <th>33579</th>\n",
       "      <th>59689</th>\n",
       "      <th>61124</th>\n",
       "      <th>67628</th>\n",
       "      <th>68152</th>\n",
       "      <th>78728</th>\n",
       "      <th>78796</th>\n",
       "      <th>78963</th>\n",
       "      <th>90065</th>\n",
       "    </tr>\n",
       "    <tr>\n",
       "      <th>Taxable_Income</th>\n",
       "      <th></th>\n",
       "      <th></th>\n",
       "      <th></th>\n",
       "      <th></th>\n",
       "      <th></th>\n",
       "      <th></th>\n",
       "      <th></th>\n",
       "      <th></th>\n",
       "      <th></th>\n",
       "      <th></th>\n",
       "      <th></th>\n",
       "      <th></th>\n",
       "      <th></th>\n",
       "      <th></th>\n",
       "      <th></th>\n",
       "      <th></th>\n",
       "    </tr>\n",
       "  </thead>\n",
       "  <tbody>\n",
       "    <tr>\n",
       "      <th>10003</th>\n",
       "      <td>0</td>\n",
       "      <td>1</td>\n",
       "      <td>0</td>\n",
       "      <td>0</td>\n",
       "      <td>0</td>\n",
       "      <td>0</td>\n",
       "      <td>0</td>\n",
       "      <td>0</td>\n",
       "      <td>0</td>\n",
       "      <td>0</td>\n",
       "      <td>0</td>\n",
       "      <td>0</td>\n",
       "      <td>0</td>\n",
       "      <td>0</td>\n",
       "      <td>0</td>\n",
       "      <td>0</td>\n",
       "    </tr>\n",
       "    <tr>\n",
       "      <th>11794</th>\n",
       "      <td>1</td>\n",
       "      <td>0</td>\n",
       "      <td>0</td>\n",
       "      <td>0</td>\n",
       "      <td>0</td>\n",
       "      <td>0</td>\n",
       "      <td>0</td>\n",
       "      <td>0</td>\n",
       "      <td>0</td>\n",
       "      <td>0</td>\n",
       "      <td>0</td>\n",
       "      <td>0</td>\n",
       "      <td>0</td>\n",
       "      <td>0</td>\n",
       "      <td>0</td>\n",
       "      <td>0</td>\n",
       "    </tr>\n",
       "    <tr>\n",
       "      <th>11804</th>\n",
       "      <td>0</td>\n",
       "      <td>1</td>\n",
       "      <td>0</td>\n",
       "      <td>0</td>\n",
       "      <td>0</td>\n",
       "      <td>0</td>\n",
       "      <td>0</td>\n",
       "      <td>0</td>\n",
       "      <td>0</td>\n",
       "      <td>0</td>\n",
       "      <td>0</td>\n",
       "      <td>0</td>\n",
       "      <td>0</td>\n",
       "      <td>0</td>\n",
       "      <td>0</td>\n",
       "      <td>0</td>\n",
       "    </tr>\n",
       "    <tr>\n",
       "      <th>12514</th>\n",
       "      <td>1</td>\n",
       "      <td>0</td>\n",
       "      <td>0</td>\n",
       "      <td>0</td>\n",
       "      <td>0</td>\n",
       "      <td>0</td>\n",
       "      <td>0</td>\n",
       "      <td>0</td>\n",
       "      <td>0</td>\n",
       "      <td>0</td>\n",
       "      <td>0</td>\n",
       "      <td>0</td>\n",
       "      <td>0</td>\n",
       "      <td>0</td>\n",
       "      <td>0</td>\n",
       "      <td>0</td>\n",
       "    </tr>\n",
       "    <tr>\n",
       "      <th>12682</th>\n",
       "      <td>0</td>\n",
       "      <td>1</td>\n",
       "      <td>0</td>\n",
       "      <td>0</td>\n",
       "      <td>0</td>\n",
       "      <td>0</td>\n",
       "      <td>0</td>\n",
       "      <td>0</td>\n",
       "      <td>0</td>\n",
       "      <td>0</td>\n",
       "      <td>0</td>\n",
       "      <td>0</td>\n",
       "      <td>0</td>\n",
       "      <td>0</td>\n",
       "      <td>0</td>\n",
       "      <td>0</td>\n",
       "    </tr>\n",
       "    <tr>\n",
       "      <th>...</th>\n",
       "      <td>...</td>\n",
       "      <td>...</td>\n",
       "      <td>...</td>\n",
       "      <td>...</td>\n",
       "      <td>...</td>\n",
       "      <td>...</td>\n",
       "      <td>...</td>\n",
       "      <td>...</td>\n",
       "      <td>...</td>\n",
       "      <td>...</td>\n",
       "      <td>...</td>\n",
       "      <td>...</td>\n",
       "      <td>...</td>\n",
       "      <td>...</td>\n",
       "      <td>...</td>\n",
       "      <td>...</td>\n",
       "    </tr>\n",
       "    <tr>\n",
       "      <th>96652</th>\n",
       "      <td>0</td>\n",
       "      <td>0</td>\n",
       "      <td>0</td>\n",
       "      <td>0</td>\n",
       "      <td>0</td>\n",
       "      <td>0</td>\n",
       "      <td>0</td>\n",
       "      <td>0</td>\n",
       "      <td>0</td>\n",
       "      <td>0</td>\n",
       "      <td>0</td>\n",
       "      <td>0</td>\n",
       "      <td>0</td>\n",
       "      <td>1</td>\n",
       "      <td>0</td>\n",
       "      <td>0</td>\n",
       "    </tr>\n",
       "    <tr>\n",
       "      <th>97957</th>\n",
       "      <td>0</td>\n",
       "      <td>0</td>\n",
       "      <td>0</td>\n",
       "      <td>0</td>\n",
       "      <td>0</td>\n",
       "      <td>0</td>\n",
       "      <td>0</td>\n",
       "      <td>0</td>\n",
       "      <td>0</td>\n",
       "      <td>0</td>\n",
       "      <td>0</td>\n",
       "      <td>0</td>\n",
       "      <td>0</td>\n",
       "      <td>0</td>\n",
       "      <td>0</td>\n",
       "      <td>1</td>\n",
       "    </tr>\n",
       "    <tr>\n",
       "      <th>98416</th>\n",
       "      <td>0</td>\n",
       "      <td>0</td>\n",
       "      <td>0</td>\n",
       "      <td>0</td>\n",
       "      <td>0</td>\n",
       "      <td>0</td>\n",
       "      <td>0</td>\n",
       "      <td>0</td>\n",
       "      <td>0</td>\n",
       "      <td>0</td>\n",
       "      <td>0</td>\n",
       "      <td>0</td>\n",
       "      <td>0</td>\n",
       "      <td>0</td>\n",
       "      <td>0</td>\n",
       "      <td>1</td>\n",
       "    </tr>\n",
       "    <tr>\n",
       "      <th>99109</th>\n",
       "      <td>0</td>\n",
       "      <td>0</td>\n",
       "      <td>0</td>\n",
       "      <td>0</td>\n",
       "      <td>0</td>\n",
       "      <td>0</td>\n",
       "      <td>0</td>\n",
       "      <td>0</td>\n",
       "      <td>0</td>\n",
       "      <td>0</td>\n",
       "      <td>0</td>\n",
       "      <td>0</td>\n",
       "      <td>0</td>\n",
       "      <td>0</td>\n",
       "      <td>0</td>\n",
       "      <td>1</td>\n",
       "    </tr>\n",
       "    <tr>\n",
       "      <th>99307</th>\n",
       "      <td>0</td>\n",
       "      <td>0</td>\n",
       "      <td>0</td>\n",
       "      <td>0</td>\n",
       "      <td>0</td>\n",
       "      <td>0</td>\n",
       "      <td>0</td>\n",
       "      <td>0</td>\n",
       "      <td>0</td>\n",
       "      <td>0</td>\n",
       "      <td>0</td>\n",
       "      <td>0</td>\n",
       "      <td>0</td>\n",
       "      <td>1</td>\n",
       "      <td>0</td>\n",
       "      <td>0</td>\n",
       "    </tr>\n",
       "  </tbody>\n",
       "</table>\n",
       "<p>120 rows × 16 columns</p>\n",
       "</div>"
      ],
      "text/plain": [
       "col_0           10150  10455  21966  22054  33215  33329  33356  33579  59689  \\\n",
       "Taxable_Income                                                                  \n",
       "10003               0      1      0      0      0      0      0      0      0   \n",
       "11794               1      0      0      0      0      0      0      0      0   \n",
       "11804               0      1      0      0      0      0      0      0      0   \n",
       "12514               1      0      0      0      0      0      0      0      0   \n",
       "12682               0      1      0      0      0      0      0      0      0   \n",
       "...               ...    ...    ...    ...    ...    ...    ...    ...    ...   \n",
       "96652               0      0      0      0      0      0      0      0      0   \n",
       "97957               0      0      0      0      0      0      0      0      0   \n",
       "98416               0      0      0      0      0      0      0      0      0   \n",
       "99109               0      0      0      0      0      0      0      0      0   \n",
       "99307               0      0      0      0      0      0      0      0      0   \n",
       "\n",
       "col_0           61124  67628  68152  78728  78796  78963  90065  \n",
       "Taxable_Income                                                   \n",
       "10003               0      0      0      0      0      0      0  \n",
       "11794               0      0      0      0      0      0      0  \n",
       "11804               0      0      0      0      0      0      0  \n",
       "12514               0      0      0      0      0      0      0  \n",
       "12682               0      0      0      0      0      0      0  \n",
       "...               ...    ...    ...    ...    ...    ...    ...  \n",
       "96652               0      0      0      0      1      0      0  \n",
       "97957               0      0      0      0      0      0      1  \n",
       "98416               0      0      0      0      0      0      1  \n",
       "99109               0      0      0      0      0      0      1  \n",
       "99307               0      0      0      0      1      0      0  \n",
       "\n",
       "[120 rows x 16 columns]"
      ]
     },
     "execution_count": 17,
     "metadata": {},
     "output_type": "execute_result"
    }
   ],
   "source": [
    "pd.crosstab(y_test,preds)"
   ]
  },
  {
   "cell_type": "code",
   "execution_count": 18,
   "id": "reported-lingerie",
   "metadata": {},
   "outputs": [
    {
     "data": {
      "text/plain": [
       "0.0"
      ]
     },
     "execution_count": 18,
     "metadata": {},
     "output_type": "execute_result"
    }
   ],
   "source": [
    "#Accuracy\n",
    "np.mean(preds==y_test)"
   ]
  },
  {
   "cell_type": "code",
   "execution_count": 19,
   "id": "modified-sleeping",
   "metadata": {},
   "outputs": [],
   "source": [
    "#building Decision  Tree Classifier(CART) using GINI Criteria\n",
    "from sklearn.tree import DecisionTreeClassifier\n",
    "model_gini = DecisionTreeClassifier(criterion='gini', max_depth=3)"
   ]
  },
  {
   "cell_type": "code",
   "execution_count": 20,
   "id": "outer-catalog",
   "metadata": {},
   "outputs": [
    {
     "data": {
      "text/plain": [
       "DecisionTreeClassifier(max_depth=3)"
      ]
     },
     "execution_count": 20,
     "metadata": {},
     "output_type": "execute_result"
    }
   ],
   "source": [
    "model_gini.fit(x_train, y_train)"
   ]
  },
  {
   "cell_type": "code",
   "execution_count": 21,
   "id": "operating-clone",
   "metadata": {},
   "outputs": [
    {
     "data": {
      "text/plain": [
       "0.0"
      ]
     },
     "execution_count": 21,
     "metadata": {},
     "output_type": "execute_result"
    }
   ],
   "source": [
    "#prediction\n",
    "pred=model.predict(x_test)\n",
    "np.mean(preds==y_test)"
   ]
  },
  {
   "cell_type": "code",
   "execution_count": 22,
   "id": "amateur-deposit",
   "metadata": {},
   "outputs": [],
   "source": [
    "#decision tree\n",
    "from sklearn.tree import DecisionTreeRegressor"
   ]
  },
  {
   "cell_type": "code",
   "execution_count": 24,
   "id": "northern-darkness",
   "metadata": {},
   "outputs": [],
   "source": [
    "array = dataset.values\n",
    "X = array[:,0:5]\n",
    "Y= array[:,2]"
   ]
  },
  {
   "cell_type": "code",
   "execution_count": 25,
   "id": "ecological-prompt",
   "metadata": {},
   "outputs": [],
   "source": [
    "X_train, X_test, y_train, y_test = train_test_split(X, y, test_size=0.33, random_state=1)"
   ]
  },
  {
   "cell_type": "code",
   "execution_count": 26,
   "id": "floating-conditions",
   "metadata": {},
   "outputs": [
    {
     "data": {
      "text/plain": [
       "DecisionTreeRegressor()"
      ]
     },
     "execution_count": 26,
     "metadata": {},
     "output_type": "execute_result"
    }
   ],
   "source": [
    "model = DecisionTreeRegressor()\n",
    "model.fit(X_train, y_train)"
   ]
  },
  {
   "cell_type": "code",
   "execution_count": 27,
   "id": "located-december",
   "metadata": {},
   "outputs": [
    {
     "data": {
      "text/plain": [
       "0.999863788316228"
      ]
     },
     "execution_count": 27,
     "metadata": {},
     "output_type": "execute_result"
    }
   ],
   "source": [
    "#Find the accuracy\n",
    "model.score(X_test,y_test)"
   ]
  },
  {
   "cell_type": "code",
   "execution_count": null,
   "id": "super-trademark",
   "metadata": {},
   "outputs": [],
   "source": []
  }
 ],
 "metadata": {
  "kernelspec": {
   "display_name": "Python 3",
   "language": "python",
   "name": "python3"
  },
  "language_info": {
   "codemirror_mode": {
    "name": "ipython",
    "version": 3
   },
   "file_extension": ".py",
   "mimetype": "text/x-python",
   "name": "python",
   "nbconvert_exporter": "python",
   "pygments_lexer": "ipython3",
   "version": "3.8.5"
  }
 },
 "nbformat": 4,
 "nbformat_minor": 5
}
